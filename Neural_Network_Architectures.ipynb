{
 "cells": [
  {
   "cell_type": "code",
   "execution_count": 1,
   "metadata": {},
   "outputs": [],
   "source": [
    "import numpy as np\n",
    "#np.set_printoptions(threshold = np.nan, linewidth = 115)\n",
    "import pickle\n",
    "\n",
    "# Load with pickle instead of processing images again\n",
    "training_img_1 = pickle.load(open('1vAll_img_res_Infiltration_1st_half.p', 'rb'))\n",
    "training_img_2 = pickle.load(open('1vAll_img_res_Infiltration_2nd_half.p', 'rb'))"
   ]
  },
  {
   "cell_type": "code",
   "execution_count": 2,
   "metadata": {},
   "outputs": [],
   "source": [
    "training_img_one = np.append(training_img_1, training_img_2, axis=0)"
   ]
  },
  {
   "cell_type": "code",
   "execution_count": 3,
   "metadata": {},
   "outputs": [],
   "source": [
    "training_img_3 = pickle.load(open('1vAll_img_res_Infiltration_3rd_half.p', 'rb'))\n",
    "training_img_4 = pickle.load(open('1vAll_img_res_Infiltration_4th_half.p', 'rb'))"
   ]
  },
  {
   "cell_type": "code",
   "execution_count": 4,
   "metadata": {},
   "outputs": [],
   "source": [
    "training_img_two = np.append(training_img_3, training_img_4, axis=0)"
   ]
  },
  {
   "cell_type": "code",
   "execution_count": 5,
   "metadata": {},
   "outputs": [
    {
     "data": {
      "text/plain": [
       "(36298, 256, 256, 1)"
      ]
     },
     "execution_count": 5,
     "metadata": {},
     "output_type": "execute_result"
    }
   ],
   "source": [
    "training_img = np.append(training_img_one, training_img_two, axis=0)\n",
    "\n",
    "training_img.shape"
   ]
  },
  {
   "cell_type": "code",
   "execution_count": 6,
   "metadata": {},
   "outputs": [],
   "source": [
    "labels_1 = pickle.load(open('1vAll_labels_res_Infiltration_1st_half.p', 'rb'))\n",
    "labels_2 = pickle.load(open('1vAll_labels_res_Infiltration_2nd_half.p', 'rb'))\n",
    "labels_3 = pickle.load(open('1vAll_labels_res_Infiltration_3rd_half.p', 'rb'))\n",
    "labels_4 = pickle.load(open('1vAll_labels_res_Infiltration_4th_half.p', 'rb'))"
   ]
  },
  {
   "cell_type": "code",
   "execution_count": 7,
   "metadata": {},
   "outputs": [
    {
     "data": {
      "text/plain": [
       "(36298,)"
      ]
     },
     "execution_count": 7,
     "metadata": {},
     "output_type": "execute_result"
    }
   ],
   "source": [
    "training_labels = np.append(labels_1, np.append(labels_2, np.append(labels_3, labels_4, axis = 0), axis = 0), axis = 0)\n",
    "training_labels.shape"
   ]
  },
  {
   "cell_type": "code",
   "execution_count": 8,
   "metadata": {},
   "outputs": [],
   "source": [
    "test_img = pickle.load(open('1vAll_test_img.p', 'rb'))\n",
    "test_labels = pickle.load(open('1vAll_test_labels.p', 'rb'))    "
   ]
  },
  {
   "cell_type": "code",
   "execution_count": 9,
   "metadata": {},
   "outputs": [
    {
     "name": "stderr",
     "output_type": "stream",
     "text": [
      "Using TensorFlow backend.\n"
     ]
    }
   ],
   "source": [
    "import keras\n",
    "from keras import models, optimizers, layers, regularizers, metrics, losses\n",
    "from keras.layers.advanced_activations import LeakyReLU, PReLU, ELU, ReLU, ThresholdedReLU\n",
    "from keras.layers.core import Dense, Dropout, SpatialDropout2D, Activation\n",
    "from keras.layers.convolutional import Conv2D, SeparableConv2D\n",
    "from keras.models import model_from_json, Sequential\n",
    "\n",
    "import tensorflow as tf\n",
    "config = tf.ConfigProto()\n",
    "config.gpu_options.allow_growth = True\n",
    "session = tf.Session(config = config)\n",
    "\n",
    "import matplotlib.pyplot as plt\n",
    "\n",
    "IMG_SIZE = 256\n",
    "\n",
    "# Save Comparison model\n",
    "def save_model(model_name, hist_str, model_str):\n",
    "\n",
    "    pickle.dump(model_name.history, open('Training Histories/'+ hist_str + '.p', 'wb'))\n",
    "    \n",
    "    print(\"Saved \" + hist_str + \" to Training Histories folder\")\n",
    "    \n",
    "    # serialize model to JSON\n",
    "    model_name = model.to_json()\n",
    "    with open(\"CNN Models/\" + model_str + \".json\", \"w\") as json_file:\n",
    "        json_file.write(model_name)\n",
    "\n",
    "    # serialize weights to HDF5\n",
    "    model.save_weights(\"CNN Models/\" + model_str + \".h5\")\n",
    "    print(\"Saved \" + model_str + \" and weights to CNN Models folder\")\n",
    "    \n",
    "# Load model architecture and weights NOTE: must compile again\n",
    "def load_model():\n",
    "    model_str = str(input(\"Name of model to load: \"))\n",
    "\n",
    "    # load json and create model\n",
    "    json_file = open('CNN Models/' + model_str + '.json', 'r')\n",
    "    loaded_model_json = json_file.read()\n",
    "    json_file.close()\n",
    "    loaded_model = model_from_json(loaded_model_json)\n",
    "    # load weights into new model\n",
    "    loaded_model.load_weights(\"CNN Models/\" + model_str + \".h5\")\n",
    "    print(\"Loaded \" + model_str + \" and weights from CNN Models folder\")\n",
    "    \n",
    "    return loaded_model\n",
    "    \n",
    "# Load history object\n",
    "def load_history():\n",
    "    hist_str = str(input(\"Name of history to load: \"))\n",
    "\n",
    "    loaded_history = pickle.load(open('Training Histories/' + hist_str + '.p', 'rb'))\n",
    "    \n",
    "    print(\"Loaded \" + hist_str + \" from Training Histories folder\")\n",
    "    \n",
    "    return loaded_history\n",
    "\n",
    "Infiltration_class_weight = [{0: 1, 1: 12.938}]"
   ]
  },
  {
   "cell_type": "code",
   "execution_count": 10,
   "metadata": {},
   "outputs": [
    {
     "name": "stdout",
     "output_type": "stream",
     "text": [
      "Labels shape:  (36298,)\n",
      "Length of test_labels:  3490\n",
      "No. of Infiltration Diagnoses:  18149\n"
     ]
    }
   ],
   "source": [
    "print('Labels shape: ', training_labels.shape)\n",
    "print('Length of test_labels: ', len(test_labels))\n",
    "print('No. of Infiltration Diagnoses: ', sum(training_labels))"
   ]
  },
  {
   "cell_type": "code",
   "execution_count": 11,
   "metadata": {},
   "outputs": [],
   "source": [
    "# Metric Analysis\n",
    "def _1vAll_accuracy(y_test, pred):\n",
    "    \n",
    "    pred = np.squeeze(pred, axis = -1)\n",
    "    pred = np.round_(pred)\n",
    "    pred = pred.astype(dtype = 'uint8')\n",
    "    \n",
    "    ft = pred == y_test\n",
    "    \n",
    "    accuracy = sum(ft)/len(ft)\n",
    "        \n",
    "    print('\\t Complete Label Accuracy: ', (accuracy * 100), '%')\n",
    "    \n",
    "    print('Sum of Fully Correct Predictions: ', sum(ft))\n",
    "    print('\\t\\t    Total Labels: ', len(ft))\n",
    "    \n",
    "    return accuracy"
   ]
  },
  {
   "cell_type": "markdown",
   "metadata": {},
   "source": [
    "### One Vs. All"
   ]
  },
  {
   "cell_type": "raw",
   "metadata": {},
   "source": [
    "# Infiltration One Vs. All\n",
    "# With Regularizers\n",
    "\n",
    "model = models.Sequential()\n",
    "model.add(layers.Conv2D(32, (3, 3), activation='relu', kernel_regularizer=regularizers.l2(0.005), input_shape=(IMG_SIZE, IMG_SIZE, 1)))\n",
    "model.add(layers.MaxPooling2D((2, 2)))\n",
    "model.add(layers.Conv2D(64, (3, 3), activation='relu', kernel_regularizer=regularizers.l2(0.005)))\n",
    "model.add(layers.MaxPooling2D((2, 2)))\n",
    "model.add(layers.Conv2D(64, (3, 3), activation='relu', kernel_regularizer=regularizers.l2(0.005)))\n",
    "model.add(layers.MaxPooling2D((2, 2)))\n",
    "\n",
    "model.add(layers.Flatten())\n",
    "model.add(layers.Dense(64, activation='relu', kernel_regularizer=regularizers.l2(0.005)))\n",
    "model.add(layers.Dense(1, activation='sigmoid'))"
   ]
  },
  {
   "cell_type": "code",
   "execution_count": 12,
   "metadata": {
    "scrolled": false
   },
   "outputs": [
    {
     "name": "stdout",
     "output_type": "stream",
     "text": [
      "Train on 31760 samples, validate on 4538 samples\n",
      "Epoch 1/50\n",
      "31760/31760 [==============================] - 69s 2ms/step - loss: 0.7479 - acc: 0.5897 - val_loss: 0.7965 - val_acc: 0.3706\n",
      "Epoch 2/50\n",
      "31760/31760 [==============================] - 67s 2ms/step - loss: 0.6767 - acc: 0.6138 - val_loss: 0.8039 - val_acc: 0.3605\n",
      "Epoch 3/50\n",
      "31760/31760 [==============================] - 70s 2ms/step - loss: 0.6743 - acc: 0.6156 - val_loss: 0.7163 - val_acc: 0.5300\n",
      "Epoch 4/50\n",
      "31760/31760 [==============================] - 65s 2ms/step - loss: 0.6729 - acc: 0.6172 - val_loss: 0.5955 - val_acc: 0.7362\n",
      "Epoch 5/50\n",
      "31760/31760 [==============================] - 65s 2ms/step - loss: 0.6715 - acc: 0.6147 - val_loss: 0.8660 - val_acc: 0.1595\n",
      "Epoch 6/50\n",
      "31760/31760 [==============================] - 64s 2ms/step - loss: 0.6709 - acc: 0.6162 - val_loss: 0.6781 - val_acc: 0.6036\n",
      "Epoch 7/50\n",
      "31760/31760 [==============================] - 65s 2ms/step - loss: 0.6696 - acc: 0.6202 - val_loss: 0.8131 - val_acc: 0.3601\n",
      "Epoch 8/50\n",
      "31760/31760 [==============================] - 65s 2ms/step - loss: 0.6696 - acc: 0.6196 - val_loss: 1.1053 - val_acc: 0.0939\n",
      "Epoch 9/50\n",
      "31760/31760 [==============================] - 64s 2ms/step - loss: 0.6690 - acc: 0.6172 - val_loss: 0.8908 - val_acc: 0.3023\n",
      "Epoch 10/50\n",
      "31760/31760 [==============================] - 66s 2ms/step - loss: 0.6686 - acc: 0.6189 - val_loss: 1.0480 - val_acc: 0.1512\n",
      "Epoch 11/50\n",
      "31760/31760 [==============================] - 64s 2ms/step - loss: 0.6687 - acc: 0.6193 - val_loss: 0.6800 - val_acc: 0.5778\n",
      "Epoch 12/50\n",
      "31760/31760 [==============================] - 64s 2ms/step - loss: 0.6693 - acc: 0.6194 - val_loss: 0.8658 - val_acc: 0.3369\n",
      "Epoch 13/50\n",
      "31760/31760 [==============================] - 64s 2ms/step - loss: 0.6684 - acc: 0.6161 - val_loss: 1.0782 - val_acc: 0.1609\n",
      "Epoch 14/50\n",
      "31760/31760 [==============================] - 69s 2ms/step - loss: 0.6678 - acc: 0.6212 - val_loss: 0.6215 - val_acc: 0.6877\n",
      "Epoch 15/50\n",
      "31760/31760 [==============================] - 65s 2ms/step - loss: 0.6681 - acc: 0.6187 - val_loss: 1.1517 - val_acc: 0.1897\n",
      "Epoch 16/50\n",
      "31760/31760 [==============================] - 66s 2ms/step - loss: 0.6687 - acc: 0.6195 - val_loss: 0.6995 - val_acc: 0.5840\n",
      "Epoch 17/50\n",
      "31760/31760 [==============================] - 65s 2ms/step - loss: 0.6674 - acc: 0.6227 - val_loss: 0.8563 - val_acc: 0.2501\n",
      "Epoch 18/50\n",
      "31760/31760 [==============================] - 67s 2ms/step - loss: 0.6663 - acc: 0.6225 - val_loss: 1.3888 - val_acc: 0.0602\n",
      "Epoch 19/50\n",
      "31760/31760 [==============================] - 65s 2ms/step - loss: 0.6673 - acc: 0.6200 - val_loss: 0.7899 - val_acc: 0.4423\n",
      "Epoch 20/50\n",
      "31760/31760 [==============================] - 66s 2ms/step - loss: 0.6662 - acc: 0.6225 - val_loss: 0.5985 - val_acc: 0.7631\n",
      "Epoch 21/50\n",
      "31760/31760 [==============================] - 66s 2ms/step - loss: 0.6669 - acc: 0.6212 - val_loss: 0.9616 - val_acc: 0.1690\n",
      "Epoch 22/50\n",
      "31760/31760 [==============================] - 64s 2ms/step - loss: 0.6667 - acc: 0.6218 - val_loss: 0.7554 - val_acc: 0.4522\n",
      "Epoch 23/50\n",
      "31760/31760 [==============================] - 64s 2ms/step - loss: 0.6668 - acc: 0.6189 - val_loss: 0.8444 - val_acc: 0.3457\n",
      "Epoch 24/50\n",
      "31760/31760 [==============================] - 64s 2ms/step - loss: 0.6669 - acc: 0.6215 - val_loss: 0.8861 - val_acc: 0.2750\n",
      "Epoch 25/50\n",
      "31760/31760 [==============================] - 66s 2ms/step - loss: 0.6666 - acc: 0.6203 - val_loss: 1.0554 - val_acc: 0.1743\n",
      "Epoch 26/50\n",
      "31760/31760 [==============================] - 65s 2ms/step - loss: 0.6665 - acc: 0.6202 - val_loss: 0.8894 - val_acc: 0.2832\n",
      "Epoch 27/50\n",
      "31760/31760 [==============================] - 66s 2ms/step - loss: 0.6664 - acc: 0.6238 - val_loss: 0.9362 - val_acc: 0.2201\n",
      "Epoch 28/50\n",
      "31760/31760 [==============================] - 64s 2ms/step - loss: 0.6661 - acc: 0.6199 - val_loss: 0.6671 - val_acc: 0.6126\n",
      "Epoch 29/50\n",
      "31760/31760 [==============================] - 64s 2ms/step - loss: 0.6658 - acc: 0.6198 - val_loss: 0.9289 - val_acc: 0.2120\n",
      "Epoch 30/50\n",
      "31760/31760 [==============================] - 64s 2ms/step - loss: 0.6656 - acc: 0.6219 - val_loss: 0.8093 - val_acc: 0.4037\n",
      "Epoch 31/50\n",
      "31760/31760 [==============================] - 66s 2ms/step - loss: 0.6655 - acc: 0.6233 - val_loss: 0.6839 - val_acc: 0.5809\n",
      "Epoch 32/50\n",
      "31760/31760 [==============================] - 64s 2ms/step - loss: 0.6656 - acc: 0.6194 - val_loss: 0.6989 - val_acc: 0.5500\n",
      "Epoch 33/50\n",
      "31760/31760 [==============================] - 64s 2ms/step - loss: 0.6656 - acc: 0.6228 - val_loss: 0.8360 - val_acc: 0.3964\n",
      "Epoch 34/50\n",
      "31760/31760 [==============================] - 65s 2ms/step - loss: 0.6657 - acc: 0.6226 - val_loss: 1.1565 - val_acc: 0.1208\n",
      "Epoch 35/50\n",
      "31760/31760 [==============================] - 64s 2ms/step - loss: 0.6656 - acc: 0.6220 - val_loss: 0.7383 - val_acc: 0.5051\n",
      "Epoch 36/50\n",
      "31760/31760 [==============================] - 64s 2ms/step - loss: 0.6652 - acc: 0.6248 - val_loss: 0.8642 - val_acc: 0.3713\n",
      "Epoch 37/50\n",
      "31760/31760 [==============================] - 64s 2ms/step - loss: 0.6648 - acc: 0.6245 - val_loss: 0.6646 - val_acc: 0.5965\n",
      "Epoch 38/50\n",
      "31760/31760 [==============================] - 65s 2ms/step - loss: 0.6648 - acc: 0.6249 - val_loss: 0.8366 - val_acc: 0.4149\n",
      "Epoch 39/50\n",
      "31760/31760 [==============================] - 64s 2ms/step - loss: 0.6647 - acc: 0.6256 - val_loss: 0.8101 - val_acc: 0.3656\n",
      "Epoch 40/50\n",
      "31760/31760 [==============================] - 65s 2ms/step - loss: 0.6653 - acc: 0.6239 - val_loss: 0.6544 - val_acc: 0.6025\n",
      "Epoch 41/50\n",
      "31760/31760 [==============================] - 70s 2ms/step - loss: 0.6645 - acc: 0.6233 - val_loss: 0.9984 - val_acc: 0.2320\n",
      "Epoch 42/50\n",
      "31760/31760 [==============================] - 70s 2ms/step - loss: 0.6648 - acc: 0.6247 - val_loss: 0.6865 - val_acc: 0.5690\n",
      "Epoch 43/50\n",
      "31760/31760 [==============================] - 72s 2ms/step - loss: 0.6643 - acc: 0.6202 - val_loss: 0.9040 - val_acc: 0.3440\n",
      "Epoch 44/50\n",
      "31760/31760 [==============================] - 73s 2ms/step - loss: 0.6642 - acc: 0.6238 - val_loss: 0.6852 - val_acc: 0.5729\n",
      "Epoch 45/50\n",
      "31760/31760 [==============================] - 68s 2ms/step - loss: 0.6647 - acc: 0.6257 - val_loss: 1.0597 - val_acc: 0.1161\n",
      "Epoch 46/50\n",
      "31760/31760 [==============================] - 65s 2ms/step - loss: 0.6635 - acc: 0.6269 - val_loss: 0.9171 - val_acc: 0.2578\n",
      "Epoch 47/50\n",
      "31760/31760 [==============================] - 65s 2ms/step - loss: 0.6636 - acc: 0.6254 - val_loss: 0.9536 - val_acc: 0.2437\n",
      "Epoch 48/50\n",
      "31760/31760 [==============================] - 65s 2ms/step - loss: 0.6636 - acc: 0.6273 - val_loss: 1.1889 - val_acc: 0.1029\n",
      "Epoch 49/50\n",
      "31760/31760 [==============================] - 65s 2ms/step - loss: 0.6630 - acc: 0.6252 - val_loss: 0.6334 - val_acc: 0.6406\n",
      "Epoch 50/50\n",
      "31760/31760 [==============================] - 67s 2ms/step - loss: 0.6633 - acc: 0.6250 - val_loss: 0.7239 - val_acc: 0.4974\n",
      "\t Complete Label Accuracy:  60.97421203438395 %\n",
      "Sum of Fully Correct Predictions:  2128\n",
      "\t\t    Total Labels:  3490\n",
      "Saved Infiltration_1vAll_Reg_50e_history to Training Histories folder\n",
      "Saved Infiltration_1vAll_Reg_50e and weights to CNN Models folder\n"
     ]
    },
    {
     "data": {
      "image/png": "[encoded data removed]",
      "text/plain": [
       "<Figure size 432x288 with 1 Axes>"
      ]
     },
     "metadata": {},
     "output_type": "display_data"
    },
    {
     "data": {
      "image/png": "[encoded data removed]",
      "text/plain": [
       "<Figure size 432x288 with 1 Axes>"
      ]
     },
     "metadata": {},
     "output_type": "display_data"
    }
   ],
   "source": [
    "# Last model: Infiltration_1vAll_Reg_50e\n",
    "model = load_model()\n",
    "#model.summary()\n",
    "\n",
    "model.compile(optimizer = optimizers.RMSprop(lr = 1e-3), \n",
    "              loss = 'binary_crossentropy', \n",
    "              metrics = ['accuracy'])\n",
    "\n",
    "model_obj = model.fit(training_img, training_labels, \n",
    "                      epochs = 100, initial_epoch = 50, \n",
    "                      validation_split = (1 / 8), \n",
    "                      batch_size = 128, verbose = 1 )\n",
    "\n",
    "Predictions = model.predict(test_img)\n",
    "\n",
    "Accuracy = _1vAll_accuracy(test_labels, Predictions)\n",
    "\n",
    "history_str = 'Infiltration_1vAll_Reg_100e_history'\n",
    "model_str   = 'Infiltration_1vAll_Reg_100e'\n",
    "    \n",
    "save_model(model_obj, history_str, model_str)\n",
    "\n",
    "acc = model_obj.history['acc']\n",
    "val_acc = model_obj.history['val_acc']\n",
    "loss = model_obj.history['loss']\n",
    "val_loss = model_obj.history['val_loss']\n",
    "epochs = range(1, len(acc) + 1)\n",
    "plt.plot(epochs, acc, 'bo', label='Training acc')\n",
    "plt.plot(epochs, val_acc, 'b', label='Validation acc')\n",
    "plt.title('Training and validation accuracy')\n",
    "plt.legend()\n",
    "plt.figure()\n",
    "plt.plot(epochs, loss, 'ro', label='Training loss')\n",
    "plt.plot(epochs, val_loss, 'r', label='Validation loss')\n",
    "plt.title('Training and validation loss')\n",
    "plt.legend()\n",
    "plt.show()"
   ]
  },
  {
   "cell_type": "code",
   "execution_count": 13,
   "metadata": {
    "scrolled": false
   },
   "outputs": [
    {
     "name": "stdout",
     "output_type": "stream",
     "text": [
      "Train on 31760 samples, validate on 4538 samples\n",
      "Epoch 1/30\n",
      "31760/31760 [==============================] - 141s 4ms/step - loss: 1.7991 - acc: 0.5577 - val_loss: 1.0181 - val_acc: 0.2799\n",
      "Epoch 2/30\n",
      "31760/31760 [==============================] - 138s 4ms/step - loss: 0.6959 - acc: 0.6128 - val_loss: 0.5583 - val_acc: 0.7741\n",
      "Epoch 3/30\n",
      "31760/31760 [==============================] - 139s 4ms/step - loss: 0.6912 - acc: 0.6116 - val_loss: 0.9299 - val_acc: 0.3217\n",
      "Epoch 4/30\n",
      "31760/31760 [==============================] - 138s 4ms/step - loss: 0.6859 - acc: 0.6134 - val_loss: 0.9796 - val_acc: 0.1888\n",
      "Epoch 5/30\n",
      "31760/31760 [==============================] - 138s 4ms/step - loss: 0.6826 - acc: 0.6163 - val_loss: 0.8070 - val_acc: 0.4165\n",
      "Epoch 6/30\n",
      "31760/31760 [==============================] - 138s 4ms/step - loss: 0.6830 - acc: 0.6134 - val_loss: 0.4886 - val_acc: 0.8321\n",
      "Epoch 7/30\n",
      "31760/31760 [==============================] - 138s 4ms/step - loss: 0.6811 - acc: 0.6164 - val_loss: 0.7071 - val_acc: 0.5009\n",
      "Epoch 8/30\n",
      "31760/31760 [==============================] - 138s 4ms/step - loss: 0.6800 - acc: 0.6155 - val_loss: 0.9371 - val_acc: 0.2036\n",
      "Epoch 9/30\n",
      "31760/31760 [==============================] - 138s 4ms/step - loss: 0.6830 - acc: 0.6183 - val_loss: 1.0451 - val_acc: 0.2162\n",
      "Epoch 10/30\n",
      "31760/31760 [==============================] - 138s 4ms/step - loss: 0.6796 - acc: 0.6163 - val_loss: 1.2090 - val_acc: 0.1086\n",
      "Epoch 11/30\n",
      "31760/31760 [==============================] - 138s 4ms/step - loss: 0.6788 - acc: 0.6177 - val_loss: 0.8690 - val_acc: 0.3197\n",
      "Epoch 12/30\n",
      "31760/31760 [==============================] - 138s 4ms/step - loss: 0.6779 - acc: 0.6186 - val_loss: 0.2597 - val_acc: 0.9068\n",
      "Epoch 13/30\n",
      "31760/31760 [==============================] - 139s 4ms/step - loss: 0.6868 - acc: 0.6169 - val_loss: 1.1357 - val_acc: 0.0397\n",
      "Epoch 14/30\n",
      "31760/31760 [==============================] - 139s 4ms/step - loss: 0.6781 - acc: 0.6178 - val_loss: 0.8451 - val_acc: 0.3909\n",
      "Epoch 15/30\n",
      "31760/31760 [==============================] - 138s 4ms/step - loss: 0.6793 - acc: 0.6213 - val_loss: 0.8004 - val_acc: 0.4354\n",
      "Epoch 16/30\n",
      "31760/31760 [==============================] - 236s 7ms/step - loss: 0.6774 - acc: 0.6188 - val_loss: 0.7641 - val_acc: 0.4293\n",
      "Epoch 17/30\n",
      "31760/31760 [==============================] - 137s 4ms/step - loss: 0.6744 - acc: 0.6235 - val_loss: 0.8633 - val_acc: 0.2250\n",
      "Epoch 18/30\n",
      "31760/31760 [==============================] - 146s 5ms/step - loss: 0.6763 - acc: 0.6185 - val_loss: 0.7446 - val_acc: 0.4601\n",
      "Epoch 19/30\n",
      "31760/31760 [==============================] - 147s 5ms/step - loss: 0.6752 - acc: 0.6180 - val_loss: 0.9256 - val_acc: 0.3444\n",
      "Epoch 20/30\n",
      "31760/31760 [==============================] - 147s 5ms/step - loss: 0.6733 - acc: 0.6193 - val_loss: 0.9314 - val_acc: 0.2391\n",
      "Epoch 21/30\n",
      "31760/31760 [==============================] - 153s 5ms/step - loss: 0.6751 - acc: 0.6214 - val_loss: 0.9707 - val_acc: 0.2488\n",
      "Epoch 22/30\n",
      "31760/31760 [==============================] - 152s 5ms/step - loss: 0.6723 - acc: 0.6197 - val_loss: 0.8748 - val_acc: 0.1527\n",
      "Epoch 23/30\n",
      "31760/31760 [==============================] - 155s 5ms/step - loss: 0.6727 - acc: 0.6180 - val_loss: 0.8371 - val_acc: 0.3543\n",
      "Epoch 24/30\n",
      "31760/31760 [==============================] - 151s 5ms/step - loss: 0.6731 - acc: 0.6200 - val_loss: 0.8225 - val_acc: 0.3704\n",
      "Epoch 25/30\n",
      "31760/31760 [==============================] - 155s 5ms/step - loss: 0.6710 - acc: 0.6212 - val_loss: 0.7419 - val_acc: 0.4544\n",
      "Epoch 26/30\n",
      "31760/31760 [==============================] - 149s 5ms/step - loss: 0.6709 - acc: 0.6192 - val_loss: 0.7927 - val_acc: 0.3678\n",
      "Epoch 27/30\n",
      "31760/31760 [==============================] - 150s 5ms/step - loss: 0.6697 - acc: 0.6215 - val_loss: 1.0126 - val_acc: 0.2087\n",
      "Epoch 28/30\n",
      "31760/31760 [==============================] - 155s 5ms/step - loss: 0.6700 - acc: 0.6203 - val_loss: 0.7841 - val_acc: 0.3867\n",
      "Epoch 29/30\n",
      "31760/31760 [==============================] - 156s 5ms/step - loss: 0.6683 - acc: 0.6194 - val_loss: 0.7290 - val_acc: 0.5112\n",
      "Epoch 30/30\n",
      "31760/31760 [==============================] - 154s 5ms/step - loss: 0.6680 - acc: 0.6233 - val_loss: 0.9094 - val_acc: 0.1384\n",
      "\t Complete Label Accuracy:  54.297994269340975 %\n",
      "Sum of Fully Correct Predictions:  1895\n",
      "\t\t    Total Labels:  3490\n",
      "Saved 1vAll_Inception_v5_30e_history to Training Histories folder\n",
      "Saved 1vAll_Inception_v5_30e and weights to CNN Models folder\n"
     ]
    },
    {
     "data": {
      "image/png": "[encoded data removed]",
      "text/plain": [
       "<Figure size 432x288 with 1 Axes>"
      ]
     },
     "metadata": {},
     "output_type": "display_data"
    },
    {
     "data": {
      "image/png": "[encoded data removed]",
      "text/plain": [
       "<Figure size 432x288 with 1 Axes>"
      ]
     },
     "metadata": {},
     "output_type": "display_data"
    }
   ],
   "source": [
    "# One Vs. All - Inception Model\n",
    "# v3: Added layers\n",
    "# v4: L2 Regularized\n",
    "# v5: Replaced Separable with Conv2D\n",
    "\n",
    "model = models.Sequential()\n",
    "model.add(layers.Conv2D(32, (3, 3), activation='elu', \n",
    "                        input_shape=(IMG_SIZE, IMG_SIZE, 1), \n",
    "                        kernel_regularizer=regularizers.l2(0.005)))\n",
    "model.add(layers.Conv2D(32, (3, 3), activation='elu', kernel_regularizer=regularizers.l2(0.005)))\n",
    "model.add(layers.MaxPooling2D((2, 2)))\n",
    "model.add(SpatialDropout2D(0.375))\n",
    "model.add(layers.Conv2D(64, (3, 3), activation='elu', kernel_regularizer=regularizers.l2(0.005)))\n",
    "model.add(layers.Conv2D(64, (3, 3), activation='elu', kernel_regularizer=regularizers.l2(0.005)))\n",
    "model.add(layers.MaxPooling2D((2, 2)))\n",
    "model.add(layers.Conv2D(16, (3, 3), activation='elu', kernel_regularizer=regularizers.l2(0.005)))\n",
    "model.add(layers.MaxPooling2D((2, 2)))\n",
    "model.add(Dropout(0.375))\n",
    "\n",
    "model.add(layers.Flatten())\n",
    "model.add(layers.Dense(64, activation='elu', kernel_regularizer=regularizers.l2(0.005)))\n",
    "model.add(layers.Dense(1, activation='sigmoid'))\n",
    "\n",
    "# Last model: 1vAll_Inception_v5_30e\n",
    "#model = load_model()\n",
    "#model.summary()\n",
    "\n",
    "model.compile(optimizer = optimizers.RMSprop(lr = 1e-3), \n",
    "              loss = 'binary_crossentropy', \n",
    "              metrics = ['accuracy'])\n",
    "\n",
    "model_obj = model.fit(training_img, training_labels, \n",
    "                      epochs = 30, initial_epoch = 0, \n",
    "                      validation_split = (1 / 8), \n",
    "                      batch_size = 64, verbose = 1 )\n",
    "\n",
    "Predictions = model.predict(test_img)\n",
    "\n",
    "Accuracy = _1vAll_accuracy(test_labels, Predictions)\n",
    "\n",
    "history_str = '1vAll_Inception_v5_30e_history'\n",
    "model_str   = '1vAll_Inception_v5_30e'\n",
    "    \n",
    "save_model(model_obj, history_str, model_str)\n",
    "\n",
    "acc = model_obj.history['acc']\n",
    "val_acc = model_obj.history['val_acc']\n",
    "loss = model_obj.history['loss']\n",
    "val_loss = model_obj.history['val_loss']\n",
    "epochs = range(1, len(acc) + 1)\n",
    "plt.plot(epochs, acc, 'bo', label='Training acc')\n",
    "plt.plot(epochs, val_acc, 'b', label='Validation acc')\n",
    "plt.title('Training and validation accuracy')\n",
    "plt.legend()\n",
    "plt.figure()\n",
    "plt.plot(epochs, loss, 'ro', label='Training loss')\n",
    "plt.plot(epochs, val_loss, 'r', label='Validation loss')\n",
    "plt.title('Training and validation loss')\n",
    "plt.legend()\n",
    "plt.show()"
   ]
  },
  {
   "cell_type": "code",
   "execution_count": null,
   "metadata": {
    "scrolled": false
   },
   "outputs": [],
   "source": [
    "# One Vs. All - Inception Model\n",
    "# v2: No Class Weights, Added Separable and Dense Layer\n",
    "\n",
    "model = models.Sequential()\n",
    "model.add(layers.Conv2D(32, (3, 3), activation='selu', \n",
    "                        kernel_regularizer=regularizers.l2(0.005), \n",
    "                        input_shape=(IMG_SIZE, IMG_SIZE, 1)))\n",
    "model.add(layers.MaxPooling2D((2, 2)))\n",
    "model.add(SpatialDropout2D(0.375))\n",
    "model.add(layers.SeparableConv2D(16, (3, 3), activation='selu', \n",
    "                        kernel_regularizer=regularizers.l2(0.005)))\n",
    "model.add(layers.MaxPooling2D((2, 2)))\n",
    "model.add(layers.SeparableConv2D(16, (3, 3), activation='selu', \n",
    "                                 kernel_regularizer=regularizers.l2(0.005)))\n",
    "model.add(layers.MaxPooling2D((2, 2)))\n",
    "model.add(Dropout(0.375))\n",
    "\n",
    "model.add(layers.Flatten())\n",
    "model.add(layers.Dense(16, activation='selu', kernel_regularizer=regularizers.l2(0.005)))\n",
    "model.add(layers.Dense(4, activation='selu', kernel_regularizer=regularizers.l2(0.005)))\n",
    "model.add(layers.Dense(1, activation='sigmoid'))\n",
    "\n",
    "# Last model: 1vAll_Inception_v2_50e\n",
    "#model = load_model()\n",
    "#model.summary()\n",
    "\n",
    "model.compile(optimizer = optimizers.RMSprop(lr = 1e-3), \n",
    "              loss = 'binary_crossentropy', \n",
    "              metrics = ['accuracy'])\n",
    "\n",
    "model_obj = model.fit(training_img, training_labels, \n",
    "                      epochs = 50, initial_epoch = 0, \n",
    "                      validation_split = (1 / 8), \n",
    "                      batch_size = 64, verbose = 1)\n",
    "\n",
    "Predictions = model.predict(test_img)\n",
    "\n",
    "Accuracy = _1vAll_accuracy(test_labels, Predictions)\n",
    "\n",
    "history_str = '1vAll_Inception_v2_50e_history'\n",
    "model_str   = '1vAll_Inception_v2_50e'\n",
    "    \n",
    "save_model(model_obj, history_str, model_str)\n",
    "\n",
    "acc = model_obj.history['acc']\n",
    "val_acc = model_obj.history['val_acc']\n",
    "loss = model_obj.history['loss']\n",
    "val_loss = model_obj.history['val_loss']\n",
    "epochs = range(1, len(acc) + 1)\n",
    "plt.plot(epochs, acc, 'bo', label='Training acc')\n",
    "plt.plot(epochs, val_acc, 'b', label='Validation acc')\n",
    "plt.title('Training and validation accuracy')\n",
    "plt.legend()\n",
    "plt.figure()\n",
    "plt.plot(epochs, loss, 'ro', label='Training loss')\n",
    "plt.plot(epochs, val_loss, 'r', label='Validation loss')\n",
    "plt.title('Training and validation loss')\n",
    "plt.legend()\n",
    "plt.show()"
   ]
  },
  {
   "cell_type": "raw",
   "metadata": {},
   "source": [
    "### Custom Loss function\n",
    "from keras import backend as K\n",
    "\n",
    "def LSEP(true_label, pred_label):\n",
    "    return K.log(1 + K.sum(K.exp(true_label - pred_label)))"
   ]
  },
  {
   "cell_type": "raw",
   "metadata": {},
   "source": [
    "# One Vs. All - Inception Model\n",
    "# v2: No Class Weights, Added Separable and Dense Layer\n",
    "# v3: Regularizer constant 0.005 -> 0.01, added Spatial Dropout and changed Rates\n",
    "\n",
    "model = models.Sequential()\n",
    "model.add(layers.Conv2D(32, (3, 3), activation='selu', \n",
    "                        kernel_regularizer=regularizers.l2(0.01), \n",
    "                        input_shape=(IMG_SIZE, IMG_SIZE, 1)))\n",
    "model.add(layers.MaxPooling2D((2, 2)))\n",
    "model.add(SpatialDropout2D(0.5))\n",
    "model.add(layers.SeparableConv2D(16, (3, 3), activation='selu', \n",
    "                        kernel_regularizer=regularizers.l2(0.01)))\n",
    "model.add(layers.MaxPooling2D((2, 2)))\n",
    "model.add(SpatialDropout2D(0.5))\n",
    "model.add(layers.SeparableConv2D(16, (3, 3), activation='selu', \n",
    "                                 kernel_regularizer=regularizers.l2(0.01)))\n",
    "model.add(layers.MaxPooling2D((2, 2)))\n",
    "model.add(Dropout(0.25))\n",
    "\n",
    "model.add(layers.Flatten())\n",
    "model.add(layers.Dense(16, activation='selu', kernel_regularizer=regularizers.l2(0.01)))\n",
    "model.add(layers.Dense(4, activation='selu', kernel_regularizer=regularizers.l2(0.01)))\n",
    "model.add(layers.Dense(1, activation='sigmoid'))\n",
    "\n",
    "# Last model: 1vAll_Inception_v3_30e\n",
    "#model = load_model()\n",
    "#model.summary()\n",
    "\n",
    "model.compile(optimizer = optimizers.RMSprop(lr = 1e-3), \n",
    "              loss = 'binary_crossentropy', \n",
    "              metrics = ['accuracy'])\n",
    "\n",
    "model_obj = model.fit(training_img, Infiltration_labels, \n",
    "                      epochs = 50, initial_epoch = 0, \n",
    "                      validation_split = (1 / 8), \n",
    "                      batch_size = 64, verbose = 1)\n",
    "\n",
    "Predictions = model.predict(test_img)\n",
    "\n",
    "Accuracy = _1vAll_accuracy(test_labels, Predictions)\n",
    "\n",
    "history_str = '1vAll_Inception_v3_50e_history'\n",
    "model_str   = '1vAll_Inception_v3_50e'\n",
    "    \n",
    "save_model(model_obj, history_str, model_str)\n",
    "\n",
    "acc = model_obj.history['acc']\n",
    "val_acc = model_obj.history['val_acc']\n",
    "loss = model_obj.history['loss']\n",
    "val_loss = model_obj.history['val_loss']\n",
    "epochs = range(1, len(acc) + 1)\n",
    "plt.plot(epochs, acc, 'bo', label='Training acc')\n",
    "plt.plot(epochs, val_acc, 'b', label='Validation acc')\n",
    "plt.title('Training and validation accuracy')\n",
    "plt.legend()\n",
    "plt.figure()\n",
    "plt.plot(epochs, loss, 'ro', label='Training loss')\n",
    "plt.plot(epochs, val_loss, 'r', label='Validation loss')\n",
    "plt.title('Training and validation loss')\n",
    "plt.legend()\n",
    "plt.show()"
   ]
  },
  {
   "cell_type": "code",
   "execution_count": null,
   "metadata": {},
   "outputs": [],
   "source": []
  }
 ],
 "metadata": {
  "kernelspec": {
   "display_name": "Python 3",
   "language": "python",
   "name": "python3"
  },
  "language_info": {
   "codemirror_mode": {
    "name": "ipython",
    "version": 3
   },
   "file_extension": ".py",
   "mimetype": "text/x-python",
   "name": "python",
   "nbconvert_exporter": "python",
   "pygments_lexer": "ipython3",
   "version": "3.6.6"
  }
 },
 "nbformat": 4,
 "nbformat_minor": 2
}
