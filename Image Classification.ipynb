{
 "cells": [
  {
   "cell_type": "markdown",
   "metadata": {},
   "source": [
    "# Preprocessing Data"
   ]
  },
  {
   "cell_type": "code",
   "execution_count": null,
   "metadata": {},
   "outputs": [],
   "source": [
    "import numpy as np\n",
    "import pandas as pd\n",
    "import matplotlib.image as img\n",
    "import matplotlib.pyplot as plt\n",
    "from tqdm import tqdm\n",
    "import os, cv2\n",
    "\n",
    "TRAIN_DIR = 'C:/Users/Brendon/URE18/images'\n",
    "TEST_DIR = 'C:/Users/Brendon/URE18/Test_Images'\n",
    "TRAIN_LABEL_DIR = 'Data_Entry_2017.csv'\n",
    "TEST_LABEL_DIR = 'Test_Data.csv'\n",
    "IMG_SIZE = 256"
   ]
  },
  {
   "cell_type": "code",
   "execution_count": null,
   "metadata": {},
   "outputs": [],
   "source": [
    "# One Hot Encode for Multiple Labels\n",
    "from sklearn.preprocessing import MultiLabelBinarizer\n",
    "\n",
    "read_data = pd.read_csv(TRAIN_LABEL_DIR)\n",
    "split_labels = [items.split('|')[0] for items in read_data.Finding_Labels]\n",
    "one_hot = MultiLabelBinarizer()\n",
    "training_labels = one_hot.fit_transform(split_labels)\n",
    "training_labels = training_labels[:4999]"
   ]
  },
  {
   "cell_type": "code",
   "execution_count": 3,
   "metadata": {},
   "outputs": [
    {
     "data": {
      "text/plain": [
       "(4999, 33)"
      ]
     },
     "execution_count": 3,
     "metadata": {},
     "output_type": "execute_result"
    }
   ],
   "source": [
    "training_labels.shape"
   ]
  },
  {
   "cell_type": "code",
   "execution_count": 4,
   "metadata": {},
   "outputs": [],
   "source": [
    "def create_batch(directory):\n",
    "    img_array = []\n",
    "    for img in tqdm(os.listdir(directory)):\n",
    "        path = os.path.join(directory, img)\n",
    "        img = cv2.resize(cv2.imread(path, cv2.IMREAD_GRAYSCALE), (IMG_SIZE, IMG_SIZE))\n",
    "        img_array.append(img)\n",
    "    return img_array"
   ]
  },
  {
   "cell_type": "code",
   "execution_count": 5,
   "metadata": {},
   "outputs": [
    {
     "name": "stderr",
     "output_type": "stream",
     "text": [
      "100%|██████████████████████████████████████| 4999/4999 [05:15<00:00, 15.85it/s]\n"
     ]
    }
   ],
   "source": [
    "training_img = create_batch(TRAIN_DIR)\n",
    "training_img = np.array(training_img)\n",
    "training_img = np.expand_dims(training_img, axis = 3)"
   ]
  },
  {
   "cell_type": "code",
   "execution_count": 6,
   "metadata": {},
   "outputs": [
    {
     "data": {
      "text/plain": [
       "(4999, 256, 256, 1)"
      ]
     },
     "execution_count": 6,
     "metadata": {},
     "output_type": "execute_result"
    }
   ],
   "source": [
    "training_img.shape"
   ]
  },
  {
   "cell_type": "code",
   "execution_count": 7,
   "metadata": {},
   "outputs": [
    {
     "data": {
      "text/plain": [
       "(4999, 33)"
      ]
     },
     "execution_count": 7,
     "metadata": {},
     "output_type": "execute_result"
    }
   ],
   "source": [
    "training_labels.shape"
   ]
  },
  {
   "cell_type": "markdown",
   "metadata": {},
   "source": [
    "# Neural Network"
   ]
  },
  {
   "cell_type": "code",
   "execution_count": 8,
   "metadata": {},
   "outputs": [
    {
     "name": "stderr",
     "output_type": "stream",
     "text": [
      "Using TensorFlow backend.\n"
     ]
    }
   ],
   "source": [
    "import keras\n",
    "from keras import models\n",
    "from keras import layers"
   ]
  },
  {
   "cell_type": "code",
   "execution_count": 19,
   "metadata": {},
   "outputs": [
    {
     "name": "stdout",
     "output_type": "stream",
     "text": [
      "_________________________________________________________________\n",
      "Layer (type)                 Output Shape              Param #   \n",
      "=================================================================\n",
      "conv2d_10 (Conv2D)           (None, 254, 254, 32)      320       \n",
      "_________________________________________________________________\n",
      "max_pooling2d_7 (MaxPooling2 (None, 127, 127, 32)      0         \n",
      "_________________________________________________________________\n",
      "conv2d_11 (Conv2D)           (None, 125, 125, 64)      18496     \n",
      "_________________________________________________________________\n",
      "max_pooling2d_8 (MaxPooling2 (None, 62, 62, 64)        0         \n",
      "_________________________________________________________________\n",
      "conv2d_12 (Conv2D)           (None, 60, 60, 64)        36928     \n",
      "_________________________________________________________________\n",
      "flatten_4 (Flatten)          (None, 230400)            0         \n",
      "_________________________________________________________________\n",
      "dense_7 (Dense)              (None, 64)                14745664  \n",
      "_________________________________________________________________\n",
      "dense_8 (Dense)              (None, 33)                2145      \n",
      "=================================================================\n",
      "Total params: 14,803,553\n",
      "Trainable params: 14,803,553\n",
      "Non-trainable params: 0\n",
      "_________________________________________________________________\n"
     ]
    }
   ],
   "source": [
    "model = models.Sequential()\n",
    "model.add(layers.Conv2D(32, (3, 3), activation='relu', input_shape=(256, 256, 1)))\n",
    "model.add(layers.MaxPooling2D((2, 2)))\n",
    "model.add(layers.Conv2D(64, (3, 3), activation='relu'))\n",
    "model.add(layers.MaxPooling2D((2, 2)))\n",
    "model.add(layers.Conv2D(64, (3, 3), activation='relu'))\n",
    "\n",
    "model.add(layers.Flatten())\n",
    "model.add(layers.Dense(64, activation='relu'))\n",
    "model.add(layers.Dense(33, activation='softmax'))\n",
    "\n",
    "model.summary()"
   ]
  },
  {
   "cell_type": "code",
   "execution_count": 20,
   "metadata": {},
   "outputs": [],
   "source": [
    "model.compile(optimizer = 'rmsprop', loss = 'binary_crossentropy', metrics = ['accuracy'])"
   ]
  },
  {
   "cell_type": "code",
   "execution_count": 21,
   "metadata": {},
   "outputs": [
    {
     "name": "stdout",
     "output_type": "stream",
     "text": [
      "Train on 4499 samples, validate on 500 samples\n",
      "Epoch 1/1\n",
      "4499/4499 [==============================] - ETA: 6:18 - loss: 3.9525 - acc: 0.730 - ETA: 5:28 - loss: 4.1983 - acc: 0.727 - ETA: 5:07 - loss: 4.2522 - acc: 0.727 - ETA: 4:58 - loss: 4.2830 - acc: 0.728 - ETA: 4:49 - loss: 4.3000 - acc: 0.728 - ETA: 4:51 - loss: 4.3214 - acc: 0.727 - ETA: 4:47 - loss: 4.3400 - acc: 0.727 - ETA: 4:45 - loss: 4.3530 - acc: 0.726 - ETA: 4:38 - loss: 4.3674 - acc: 0.726 - ETA: 4:31 - loss: 4.3667 - acc: 0.726 - ETA: 4:27 - loss: 4.3813 - acc: 0.725 - ETA: 4:22 - loss: 4.3713 - acc: 0.726 - ETA: 4:19 - loss: 4.3716 - acc: 0.726 - ETA: 4:13 - loss: 4.3762 - acc: 0.726 - ETA: 4:09 - loss: 4.3696 - acc: 0.727 - ETA: 4:03 - loss: 4.3695 - acc: 0.727 - ETA: 4:00 - loss: 4.3685 - acc: 0.727 - ETA: 3:56 - loss: 4.3697 - acc: 0.727 - ETA: 3:51 - loss: 4.3716 - acc: 0.727 - ETA: 3:48 - loss: 4.3699 - acc: 0.727 - ETA: 3:42 - loss: 4.3748 - acc: 0.727 - ETA: 3:39 - loss: 4.3829 - acc: 0.726 - ETA: 3:35 - loss: 4.3855 - acc: 0.726 - ETA: 3:31 - loss: 4.3899 - acc: 0.726 - ETA: 3:26 - loss: 4.3908 - acc: 0.726 - ETA: 3:21 - loss: 4.3911 - acc: 0.726 - ETA: 3:17 - loss: 4.3936 - acc: 0.726 - ETA: 3:11 - loss: 4.3902 - acc: 0.726 - ETA: 3:08 - loss: 4.3860 - acc: 0.726 - ETA: 3:03 - loss: 4.3887 - acc: 0.726 - ETA: 2:59 - loss: 4.3863 - acc: 0.726 - ETA: 2:55 - loss: 4.3889 - acc: 0.726 - ETA: 2:50 - loss: 4.3912 - acc: 0.726 - ETA: 2:46 - loss: 4.3953 - acc: 0.726 - ETA: 2:41 - loss: 4.3938 - acc: 0.726 - ETA: 2:37 - loss: 4.3942 - acc: 0.726 - ETA: 2:33 - loss: 4.3949 - acc: 0.726 - ETA: 2:28 - loss: 4.3944 - acc: 0.726 - ETA: 2:24 - loss: 4.3968 - acc: 0.726 - ETA: 2:19 - loss: 4.3969 - acc: 0.726 - ETA: 2:15 - loss: 4.3967 - acc: 0.726 - ETA: 2:10 - loss: 4.3967 - acc: 0.726 - ETA: 2:06 - loss: 4.4007 - acc: 0.726 - ETA: 2:01 - loss: 4.4011 - acc: 0.726 - ETA: 1:57 - loss: 4.4002 - acc: 0.726 - ETA: 1:53 - loss: 4.3990 - acc: 0.726 - ETA: 1:48 - loss: 4.4014 - acc: 0.726 - ETA: 1:44 - loss: 4.4028 - acc: 0.726 - ETA: 1:39 - loss: 4.4024 - acc: 0.726 - ETA: 1:35 - loss: 4.4034 - acc: 0.726 - ETA: 1:30 - loss: 4.4042 - acc: 0.726 - ETA: 1:25 - loss: 4.4047 - acc: 0.725 - ETA: 1:21 - loss: 4.4015 - acc: 0.726 - ETA: 1:16 - loss: 4.4029 - acc: 0.726 - ETA: 1:12 - loss: 4.4025 - acc: 0.726 - ETA: 1:07 - loss: 4.4030 - acc: 0.726 - ETA: 1:02 - loss: 4.4042 - acc: 0.726 - ETA: 58s - loss: 4.4061 - acc: 0.725 - ETA: 53s - loss: 4.4053 - acc: 0.72 - ETA: 48s - loss: 4.4077 - acc: 0.72 - ETA: 43s - loss: 4.4065 - acc: 0.72 - ETA: 39s - loss: 4.4056 - acc: 0.72 - ETA: 34s - loss: 4.4075 - acc: 0.72 - ETA: 29s - loss: 4.4057 - acc: 0.72 - ETA: 25s - loss: 4.4038 - acc: 0.72 - ETA: 20s - loss: 4.4029 - acc: 0.72 - ETA: 15s - loss: 4.4046 - acc: 0.72 - ETA: 10s - loss: 4.4046 - acc: 0.72 - ETA: 6s - loss: 4.4053 - acc: 0.7260 - ETA: 1s - loss: 4.4065 - acc: 0.725 - 351s 78ms/step - loss: 4.4064 - acc: 0.7260 - val_loss: 4.4208 - val_acc: 0.7254\n"
     ]
    }
   ],
   "source": [
    "history = model.fit(training_img, training_labels, epochs = 1, validation_split = 0.1, batch_size = 64)"
   ]
  },
  {
   "cell_type": "code",
   "execution_count": 24,
   "metadata": {},
   "outputs": [
    {
     "name": "stdout",
     "output_type": "stream",
     "text": [
      "dict_keys(['val_loss', 'val_acc', 'loss', 'acc'])\n"
     ]
    },
    {
     "data": {
      "text/plain": [
       "[0.7259525796470973]"
      ]
     },
     "execution_count": 24,
     "metadata": {},
     "output_type": "execute_result"
    }
   ],
   "source": [
    "# Print out Accuracy\n",
    "print(history.history.keys())\n",
    "acc"
   ]
  },
  {
   "cell_type": "code",
   "execution_count": 25,
   "metadata": {},
   "outputs": [
    {
     "data": {
      "image/png": "[encoded data removed]",
      "text/plain": [
       "<Figure size 432x288 with 1 Axes>"
      ]
     },
     "metadata": {},
     "output_type": "display_data"
    },
    {
     "data": {
      "image/png": "[encoded data removed]",
      "text/plain": [
       "<Figure size 432x288 with 1 Axes>"
      ]
     },
     "metadata": {},
     "output_type": "display_data"
    }
   ],
   "source": [
    "acc = history.history['acc']\n",
    "val_acc = history.history['val_acc']\n",
    "loss = history.history['loss']\n",
    "val_loss = history.history['val_loss']\n",
    "epochs = range(1, len(acc) + 1)\n",
    "plt.plot(epochs, acc, 'bo', label='Training acc')\n",
    "plt.plot(epochs, val_acc, 'b', label='Validation acc')\n",
    "plt.title('Training and validation accuracy')\n",
    "plt.legend()\n",
    "plt.figure()\n",
    "plt.plot(epochs, loss, 'bo', label='Training loss')\n",
    "plt.plot(epochs, val_loss, 'b', label='Validation loss')\n",
    "plt.title('Training and validation loss')\n",
    "plt.legend()\n",
    "plt.show()"
   ]
  },
  {
   "cell_type": "code",
   "execution_count": null,
   "metadata": {},
   "outputs": [],
   "source": []
  }
 ],
 "metadata": {
  "kernelspec": {
   "display_name": "Python 3",
   "language": "python",
   "name": "python3"
  },
  "language_info": {
   "codemirror_mode": {
    "name": "ipython",
    "version": 3
   },
   "file_extension": ".py",
   "mimetype": "text/x-python",
   "name": "python",
   "nbconvert_exporter": "python",
   "pygments_lexer": "ipython3",
   "version": "3.6.3"
  }
 },
 "nbformat": 4,
 "nbformat_minor": 2
}
