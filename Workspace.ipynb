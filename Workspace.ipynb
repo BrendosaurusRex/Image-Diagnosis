{
 "cells": [
  {
   "cell_type": "code",
   "execution_count": 2,
   "metadata": {},
   "outputs": [
    {
     "name": "stderr",
     "output_type": "stream",
     "text": [
      "Using TensorFlow backend.\n"
     ]
    }
   ],
   "source": [
    "import numpy as np\n",
    "import pickle\n",
    "import keras\n",
    "from keras import models, optimizers, layers, regularizers\n",
    "from keras.models import model_from_json\n",
    "import tensorflow as tf\n",
    "config = tf.ConfigProto()\n",
    "config.gpu_options.allow_growth = True\n",
    "session = tf.Session(config = config)\n",
    "import matplotlib.pyplot as plt\n",
    "\n",
    "IMG_SIZE = 256"
   ]
  },
  {
   "cell_type": "markdown",
   "metadata": {},
   "source": [
    "#### Define Useful Model Methods"
   ]
  },
  {
   "cell_type": "code",
   "execution_count": 3,
   "metadata": {},
   "outputs": [],
   "source": [
    "# Save baseline model architecture and weights\n",
    "def save_base(model_name):\n",
    "    model_str = str(input(\"Save model as: \"))\n",
    "\n",
    "    # serialize model to JSON\n",
    "    model_name = baseline.to_json()\n",
    "    with open(\"CNN Models/\" + model_str + \".json\", \"w\") as json_file:\n",
    "        json_file.write(model_name)\n",
    "\n",
    "    # serialize weights to HDF5\n",
    "    baseline.save_weights(\"CNN Models/\" + model_str + \".h5\")\n",
    "    print(\"Saved \" + model_str + \" and weights to CNN Models folder\")\n",
    "    \n",
    "# Save Comparison model\n",
    "def save_model(model_name):\n",
    "    model_str = str(input(\"Save model as: \"))\n",
    "\n",
    "    # serialize model to JSON\n",
    "    model_name = model.to_json()\n",
    "    with open(\"CNN Models/\" + model_str + \".json\", \"w\") as json_file:\n",
    "        json_file.write(model_name)\n",
    "\n",
    "    # serialize weights to HDF5\n",
    "    model.save_weights(\"CNN Models/\" + model_str + \".h5\")\n",
    "    print(\"Saved \" + model_str + \" and weights to CNN Models folder\")\n",
    "    \n",
    "# Load model architecture and weights NOTE: must compile again\n",
    "def load_model():\n",
    "    model_str = str(input(\"Name of model to load: \"))\n",
    "\n",
    "    # load json and create model\n",
    "    json_file = open('CNN Models/' + model_str + '.json', 'r')\n",
    "    loaded_model_json = json_file.read()\n",
    "    json_file.close()\n",
    "    loaded_model = model_from_json(loaded_model_json)\n",
    "    # load weights into new model\n",
    "    loaded_model.load_weights(\"CNN Models/\" + model_str + \".h5\")\n",
    "    print(\"Loaded \" + model_str + \" and weights from CNN Models folder\")\n",
    "    \n",
    "    return loaded_model\n",
    "\n",
    "# Write history object to a file using pickle\n",
    "def save_history(model_name):\n",
    "    hist_str = str(input(\"Save history as: \"))\n",
    "\n",
    "    pickle.dump(model_name.history, open('Training Histories/'+ hist_str + '.p', 'wb'))\n",
    "    \n",
    "    print(\"Saved \" + hist_str + \" to Training Histories folder\")\n",
    "    \n",
    "# Load history object\n",
    "def load_history():\n",
    "    hist_str = str(input(\"Name of history to load: \"))\n",
    "\n",
    "    loaded_history = pickle.load(open('Training Histories/' + hist_str + '.p', 'rb'))\n",
    "    \n",
    "    print(\"Loaded \" + hist_str + \" from Training Histories folder\")\n",
    "    \n",
    "    return loaded_history"
   ]
  },
  {
   "cell_type": "markdown",
   "metadata": {},
   "source": [
    "###### Load Images & Labels"
   ]
  },
  {
   "cell_type": "code",
   "execution_count": 4,
   "metadata": {},
   "outputs": [],
   "source": [
    "training_img_1 = pickle.load(open('training_img_1.p', 'rb'))\n",
    "training_img_2 = pickle.load(open('training_img_2.p', 'rb'))\n",
    "training_img = np.append(training_img_1, training_img_2, axis = 0)\n",
    "\n",
    "test_img = pickle.load(open('pickle_test_img.p', 'rb'))\n",
    "\n",
    "training_labels = pickle.load(open('training_labels.p', 'rb'))\n",
    "test_labels = pickle.load(open('test_labels.p', 'rb'))"
   ]
  },
  {
   "cell_type": "code",
   "execution_count": 4,
   "metadata": {},
   "outputs": [
    {
     "data": {
      "text/plain": [
       "'\\nprint(training_img.shape, \\n     training_labels.shape,\\n     test_img.shape,\\n     test_labels.shape)'"
      ]
     },
     "execution_count": 4,
     "metadata": {},
     "output_type": "execute_result"
    }
   ],
   "source": [
    "'''\n",
    "print(training_img.shape, \n",
    "     training_labels.shape,\n",
    "     test_img.shape,\n",
    "     test_labels.shape)'''"
   ]
  },
  {
   "cell_type": "code",
   "execution_count": 5,
   "metadata": {},
   "outputs": [
    {
     "name": "stdout",
     "output_type": "stream",
     "text": [
      "Name of history to load: base_history_20e\n",
      "Loaded base_history_20e from Training Histories folder\n"
     ]
    }
   ],
   "source": [
    "# Load baseline history\n",
    "base_hist = load_history()"
   ]
  },
  {
   "cell_type": "markdown",
   "metadata": {},
   "source": [
    "# Comparison Model"
   ]
  },
  {
   "cell_type": "code",
   "execution_count": 12,
   "metadata": {},
   "outputs": [
    {
     "name": "stdout",
     "output_type": "stream",
     "text": [
      "_________________________________________________________________\n",
      "Layer (type)                 Output Shape              Param #   \n",
      "=================================================================\n",
      "conv2d_6 (Conv2D)            (None, 254, 254, 16)      160       \n",
      "_________________________________________________________________\n",
      "conv2d_7 (Conv2D)            (None, 252, 252, 16)      2320      \n",
      "_________________________________________________________________\n",
      "max_pooling2d_6 (MaxPooling2 (None, 126, 126, 16)      0         \n",
      "_________________________________________________________________\n",
      "conv2d_8 (Conv2D)            (None, 124, 124, 32)      4640      \n",
      "_________________________________________________________________\n",
      "conv2d_9 (Conv2D)            (None, 122, 122, 32)      9248      \n",
      "_________________________________________________________________\n",
      "max_pooling2d_7 (MaxPooling2 (None, 61, 61, 32)        0         \n",
      "_________________________________________________________________\n",
      "conv2d_10 (Conv2D)           (None, 59, 59, 64)        18496     \n",
      "_________________________________________________________________\n",
      "conv2d_11 (Conv2D)           (None, 57, 57, 64)        36928     \n",
      "_________________________________________________________________\n",
      "max_pooling2d_8 (MaxPooling2 (None, 28, 28, 64)        0         \n",
      "_________________________________________________________________\n",
      "conv2d_12 (Conv2D)           (None, 26, 26, 128)       73856     \n",
      "_________________________________________________________________\n",
      "conv2d_13 (Conv2D)           (None, 24, 24, 128)       147584    \n",
      "_________________________________________________________________\n",
      "max_pooling2d_9 (MaxPooling2 (None, 12, 12, 128)       0         \n",
      "_________________________________________________________________\n",
      "conv2d_14 (Conv2D)           (None, 10, 10, 256)       295168    \n",
      "_________________________________________________________________\n",
      "conv2d_15 (Conv2D)           (None, 8, 8, 256)         590080    \n",
      "_________________________________________________________________\n",
      "max_pooling2d_10 (MaxPooling (None, 4, 4, 256)         0         \n",
      "_________________________________________________________________\n",
      "flatten_2 (Flatten)          (None, 4096)              0         \n",
      "_________________________________________________________________\n",
      "dense_3 (Dense)              (None, 64)                262208    \n",
      "_________________________________________________________________\n",
      "dense_4 (Dense)              (None, 15)                975       \n",
      "=================================================================\n",
      "Total params: 1,441,663\n",
      "Trainable params: 1,441,663\n",
      "Non-trainable params: 0\n",
      "_________________________________________________________________\n"
     ]
    }
   ],
   "source": [
    "''''''\n",
    "model = models.Sequential()\n",
    "model.add(layers.Conv2D(16, (3, 3), kernel_regularizer=regularizers.l2(0.001), activation='relu', input_shape=(IMG_SIZE, IMG_SIZE, 1)))\n",
    "model.add(layers.Conv2D(16, (3, 3), activation='relu'))\n",
    "model.add(layers.MaxPooling2D((2, 2)))\n",
    "model.add(layers.Conv2D(32, (3, 3), kernel_regularizer=regularizers.l2(0.001), activation='relu'))\n",
    "model.add(layers.Conv2D(32, (3, 3), activation='relu'))\n",
    "model.add(layers.MaxPooling2D((2, 2)))\n",
    "#model.add(layers.SpatialDropout2D(0.5, data_format = 'channels_last'))\n",
    "model.add(layers.Conv2D(64, (3, 3), kernel_regularizer=regularizers.l2(0.001), activation='relu'))\n",
    "model.add(layers.Conv2D(64, (3, 3), activation='relu'))\n",
    "model.add(layers.MaxPooling2D((2, 2)))\n",
    "model.add(layers.Conv2D(128, (3, 3), kernel_regularizer=regularizers.l2(0.001), activation='relu'))\n",
    "model.add(layers.Conv2D(128, (3, 3), activation='relu'))\n",
    "model.add(layers.MaxPooling2D((2, 2)))\n",
    "model.add(layers.Conv2D(256, (3, 3), kernel_regularizer=regularizers.l2(0.001), activation='relu'))\n",
    "model.add(layers.Conv2D(256, (3, 3), activation='relu'))\n",
    "model.add(layers.MaxPooling2D((2, 2)))\n",
    "#model.add(layers.Dropout(0.5))\n",
    "\n",
    "model.add(layers.Flatten())\n",
    "model.add(layers.Dense(64, activation='relu'))\n",
    "model.add(layers.Dense(15, activation='sigmoid'))\n",
    "\n",
    "model.compile(optimizer = optimizers.RMSprop(lr = 1e-5), loss = 'binary_crossentropy', metrics = ['accuracy'])\n",
    "\n",
    "model.summary()"
   ]
  },
  {
   "cell_type": "code",
   "execution_count": 7,
   "metadata": {},
   "outputs": [
    {
     "data": {
      "text/plain": [
       "\"\\nmodel = load_model()\\nmodel.compile(optimizer = optimizers.RMSprop(lr = 1e-5), loss = 'binary_crossentropy', metrics = ['accuracy'])\""
      ]
     },
     "execution_count": 7,
     "metadata": {},
     "output_type": "execute_result"
    }
   ],
   "source": [
    "# Optional: load model architecture\n",
    "#model = load_model()\n",
    "#model.compile(optimizer = optimizers.RMSprop(lr = 1e-5), loss = 'binary_crossentropy', metrics = ['accuracy'])"
   ]
  },
  {
   "cell_type": "code",
   "execution_count": 13,
   "metadata": {
    "scrolled": true
   },
   "outputs": [
    {
     "name": "stdout",
     "output_type": "stream",
     "text": [
      "Train on 89696 samples, validate on 11212 samples\n",
      "Epoch 1/20\n",
      "89696/89696 [==============================] - 209s 2ms/step - loss: 0.5410 - acc: 0.9145 - val_loss: 0.5046 - val_acc: 0.9214\n",
      "Epoch 2/20\n",
      "89696/89696 [==============================] - 204s 2ms/step - loss: 0.4770 - acc: 0.9258 - val_loss: 0.4717 - val_acc: 0.9191\n",
      "Epoch 3/20\n",
      "89696/89696 [==============================] - 206s 2ms/step - loss: 0.4447 - acc: 0.9268 - val_loss: 0.4439 - val_acc: 0.9228\n",
      "Epoch 4/20\n",
      "89696/89696 [==============================] - 210s 2ms/step - loss: 0.4186 - acc: 0.9272 - val_loss: 0.4179 - val_acc: 0.9243\n",
      "Epoch 5/20\n",
      "89696/89696 [==============================] - 204s 2ms/step - loss: 0.3974 - acc: 0.9276 - val_loss: 0.3985 - val_acc: 0.9239\n",
      "Epoch 6/20\n",
      "89696/89696 [==============================] - 204s 2ms/step - loss: 0.3800 - acc: 0.9279 - val_loss: 0.3850 - val_acc: 0.9235\n",
      "Epoch 7/20\n",
      "89696/89696 [==============================] - 205s 2ms/step - loss: 0.3659 - acc: 0.9281 - val_loss: 0.3718 - val_acc: 0.9240\n",
      "Epoch 8/20\n",
      "89696/89696 [==============================] - 204s 2ms/step - loss: 0.3546 - acc: 0.9282 - val_loss: 0.3618 - val_acc: 0.9241\n",
      "Epoch 9/20\n",
      "89696/89696 [==============================] - 204s 2ms/step - loss: 0.3452 - acc: 0.9285 - val_loss: 0.3526 - val_acc: 0.9248\n",
      "Epoch 10/20\n",
      "89696/89696 [==============================] - 204s 2ms/step - loss: 0.3376 - acc: 0.9287 - val_loss: 0.3492 - val_acc: 0.9240\n",
      "Epoch 11/20\n",
      "89696/89696 [==============================] - 204s 2ms/step - loss: 0.3313 - acc: 0.9288 - val_loss: 0.3405 - val_acc: 0.9244\n",
      "Epoch 12/20\n",
      "89696/89696 [==============================] - 204s 2ms/step - loss: 0.3258 - acc: 0.9289 - val_loss: 0.3352 - val_acc: 0.9249\n",
      "Epoch 13/20\n",
      "89696/89696 [==============================] - 205s 2ms/step - loss: 0.3210 - acc: 0.9291 - val_loss: 0.3301 - val_acc: 0.9254\n",
      "Epoch 14/20\n",
      "89696/89696 [==============================] - 205s 2ms/step - loss: 0.3169 - acc: 0.9292 - val_loss: 0.3324 - val_acc: 0.9251\n",
      "Epoch 15/20\n",
      "89696/89696 [==============================] - 210s 2ms/step - loss: 0.3132 - acc: 0.9294 - val_loss: 0.3228 - val_acc: 0.9252\n",
      "Epoch 16/20\n",
      "89696/89696 [==============================] - 204s 2ms/step - loss: 0.3099 - acc: 0.9294 - val_loss: 0.3199 - val_acc: 0.9255\n",
      "Epoch 17/20\n",
      "89696/89696 [==============================] - 204s 2ms/step - loss: 0.3068 - acc: 0.9295 - val_loss: 0.3158 - val_acc: 0.9258\n",
      "Epoch 18/20\n",
      "89696/89696 [==============================] - 204s 2ms/step - loss: 0.3040 - acc: 0.9295 - val_loss: 0.3163 - val_acc: 0.9253\n",
      "Epoch 19/20\n",
      "89696/89696 [==============================] - 204s 2ms/step - loss: 0.3014 - acc: 0.9297 - val_loss: 0.3122 - val_acc: 0.9256\n",
      "Epoch 20/20\n",
      "89696/89696 [==============================] - 206s 2ms/step - loss: 0.2989 - acc: 0.9297 - val_loss: 0.3120 - val_acc: 0.9236\n"
     ]
    }
   ],
   "source": [
    "model_history = model.fit(training_img, training_labels, epochs = 20, validation_split = (1 / 9), batch_size = 256, verbose = 1)"
   ]
  },
  {
   "cell_type": "code",
   "execution_count": 14,
   "metadata": {},
   "outputs": [
    {
     "name": "stdout",
     "output_type": "stream",
     "text": [
      "11212/11212 [==============================] - 10s 867us/step\n",
      "[0.2929416619855253, 0.9338030767491831]\n"
     ]
    }
   ],
   "source": [
    "model_test = model.evaluate(test_img, test_labels)\n",
    "print(model_test)"
   ]
  },
  {
   "cell_type": "markdown",
   "metadata": {},
   "source": [
    "###### Save History"
   ]
  },
  {
   "cell_type": "code",
   "execution_count": 15,
   "metadata": {},
   "outputs": [
    {
     "name": "stdout",
     "output_type": "stream",
     "text": [
      "Save history as: vanilla_reg_VGG\n",
      "Saved vanilla_reg_VGG to Training Histories folder\n"
     ]
    }
   ],
   "source": [
    "save_history(model_history)"
   ]
  },
  {
   "cell_type": "code",
   "execution_count": null,
   "metadata": {},
   "outputs": [],
   "source": [
    "# Optional: save model architecture\n",
    "#save_model(model)"
   ]
  },
  {
   "cell_type": "code",
   "execution_count": 11,
   "metadata": {},
   "outputs": [],
   "source": [
    "# Optional: load model architecture\n",
    "#model = load_model()\n",
    "#model.compile(optimizer = optimizers.RMSprop(lr = 1e-5), loss = 'binary_crossentropy', metrics = ['accuracy'])"
   ]
  },
  {
   "cell_type": "code",
   "execution_count": null,
   "metadata": {},
   "outputs": [],
   "source": [
    "#model_history = load_history()"
   ]
  },
  {
   "cell_type": "markdown",
   "metadata": {},
   "source": [
    "#### Plot Results Compared To Baseline"
   ]
  },
  {
   "cell_type": "code",
   "execution_count": 16,
   "metadata": {},
   "outputs": [
    {
     "data": {
      "image/png": "[encoded data removed]",
      "text/plain": [
       "<Figure size 432x288 with 1 Axes>"
      ]
     },
     "metadata": {},
     "output_type": "display_data"
    },
    {
     "data": {
      "text/plain": [
       "<Figure size 432x288 with 0 Axes>"
      ]
     },
     "metadata": {},
     "output_type": "display_data"
    },
    {
     "data": {
      "image/png": "[encoded data removed]",
      "text/plain": [
       "<Figure size 432x288 with 1 Axes>"
      ]
     },
     "metadata": {},
     "output_type": "display_data"
    },
    {
     "data": {
      "text/plain": [
       "<Figure size 432x288 with 0 Axes>"
      ]
     },
     "metadata": {},
     "output_type": "display_data"
    }
   ],
   "source": [
    "base_acc = base_hist['val_acc']\n",
    "model_acc = model_history.history['val_acc']\n",
    "epochs = range(1, len(model_acc) + 1)\n",
    "plt.plot(epochs, base_acc, 'b', label='Base Acc')\n",
    "plt.plot(epochs, model_acc, 'r', label='Model Acc')\n",
    "plt.title('Comparison of Validation Accuracies')\n",
    "plt.legend()\n",
    "plt.figure()\n",
    "\n",
    "plt.show()\n",
    "# Optional: save plot\n",
    "#Todo\n",
    "\n",
    "base_loss = base_hist['val_loss']\n",
    "model_loss = model_history.history['val_loss']\n",
    "plt.plot(epochs, base_loss, 'b', label='Base loss')\n",
    "plt.plot(epochs, model_loss, 'r', label='Model loss')\n",
    "plt.title('Comparison of Validation Losses')\n",
    "plt.legend()\n",
    "plt.figure()\n",
    "\n",
    "# Optional: save plot\n",
    "#Todo\n",
    "\n",
    "plt.show()"
   ]
  },
  {
   "cell_type": "markdown",
   "metadata": {},
   "source": [
    "### Compare Two Models"
   ]
  },
  {
   "cell_type": "code",
   "execution_count": null,
   "metadata": {},
   "outputs": [],
   "source": [
    "# Optional: load model to see summary and/or compile for evaluation\n",
    "#loaded_model = load_model()\n",
    "#loaded_model.summary()\n",
    "\n",
    "#loaded_model.compile(optimizer = optimizers.RMSprop(lr = 1e-5), loss = 'binary_crossentropy', metrics = ['accuracy'])\n",
    "#model_test = loaded_model.evaluate(test_img, test_labels)\n",
    "#print(model_test)"
   ]
  },
  {
   "cell_type": "code",
   "execution_count": null,
   "metadata": {
    "scrolled": true
   },
   "outputs": [],
   "source": [
    "# Optional: load history to plot and compare models\n",
    "loaded_hist =load_history()"
   ]
  },
  {
   "cell_type": "markdown",
   "metadata": {},
   "source": [
    "#### Plot Validation Accuracies & Losses"
   ]
  },
  {
   "cell_type": "code",
   "execution_count": null,
   "metadata": {},
   "outputs": [],
   "source": [
    "''''''\n",
    "loaded_acc = loaded_hist['val_acc']\n",
    "model_acc = model_history.history['val_acc']\n",
    "epochs = range(1, len(model_acc) + 1)\n",
    "plt.plot(epochs, loaded_acc, 'b', label='Loaded Model Acc')\n",
    "plt.plot(epochs, model_acc, 'r', label='Trained Model Acc')\n",
    "plt.title('Comparison of Validation Accuracies')\n",
    "plt.legend()\n",
    "plt.figure()\n",
    "\n",
    "# Optional: save plot\n",
    "#Todo\n",
    "\n",
    "loaded_loss = loaded_hist['val_loss']\n",
    "model_loss = model_history.history['val_loss']\n",
    "plt.plot(epochs, loaded_loss, 'b', label='Loaded Model loss')\n",
    "plt.plot(epochs, model_loss, 'r', label='Trained Model loss')\n",
    "plt.title('Comparison of Validation Losses')\n",
    "plt.legend()\n",
    "plt.figure()\n",
    "\n",
    "# Optional: save plot\n",
    "#Todo\n",
    "\n",
    "plt.show()"
   ]
  },
  {
   "cell_type": "code",
   "execution_count": null,
   "metadata": {},
   "outputs": [],
   "source": []
  }
 ],
 "metadata": {
  "kernelspec": {
   "display_name": "Python 3",
   "language": "python",
   "name": "python3"
  },
  "language_info": {
   "codemirror_mode": {
    "name": "ipython",
    "version": 3
   },
   "file_extension": ".py",
   "mimetype": "text/x-python",
   "name": "python",
   "nbconvert_exporter": "python",
   "pygments_lexer": "ipython3",
   "version": "3.6.6"
  }
 },
 "nbformat": 4,
 "nbformat_minor": 2
}
